{
 "cells": [
  {
   "cell_type": "code",
   "execution_count": 30,
   "id": "e84ec533",
   "metadata": {},
   "outputs": [
    {
     "data": {
      "text/plain": [
       "6"
      ]
     },
     "execution_count": 30,
     "metadata": {},
     "output_type": "execute_result"
    }
   ],
   "source": [
    "class Solution:\n",
    "    def shortestPath(self, grid: list[list[int]], k:int) -> int:\n",
    "        m = len(grid)\n",
    "        n = len(grid[0])\n",
    "        stack = [(0,0,0,0)] #(pos_x, pos_y, n_move, distance)\n",
    "        visited = [] # this list contain visited note. We will not append a node to our stack if it was visited\n",
    "        adj_pos = [(1,0),(-1,0),(0,-1),(0,1)] #move down, up, left, right\n",
    "        path = [] #contain the distances of posible paths\n",
    "        while stack:\n",
    "            (x, y, kk, d) = stack.pop(0)\n",
    "            visited.append((x, y, kk))\n",
    "            for (x_mv, y_mv) in adj_pos: #check adjacient cells\n",
    "                x_adj= x+x_mv\n",
    "                y_adj= y+y_mv\n",
    "                if x_adj>=0 and y_adj>=0 and x_adj<= m-1 and y_adj<=n-1:\n",
    "                    value_adj = grid[x_adj][y_adj]\n",
    "                    # if next cell is not blocked, move to that cell, do not increase kk, and increase the distance by 1\n",
    "                    if value_adj == 0 and (x_adj, y_adj, kk) not in visited:\n",
    "                        stack.append((x_adj, y_adj, kk, d+1))\n",
    "                        if (x_adj, y_adj)==(m-1,n-1):\n",
    "                            path.append(d+1)\n",
    "                    # if next cell is blocked, move to that cell, increase kk by 1 if kk<k\n",
    "                    #, and increase distance by 1\n",
    "                    elif value_adj == 1 and (x_adj, y_adj, kk) not in visited and kk<k:\n",
    "                        stack.append((x_adj, y_adj, kk+1, d+1))\n",
    "                    else: \n",
    "                        pass\n",
    "        if path: \n",
    "            res = min(path)\n",
    "        else: #if there is not possible path, return -1\n",
    "            res = -1\n",
    "        return res\n",
    "        \n",
    "case1= [[0,0,0],[1,1,0],[0,0,0],[0,1,1],[0,0,0]] # Return 6\n",
    "case2= [[0,1,1],[1,1,1],[1,0,0]] # Return -1\n",
    "sol = Solution()\n",
    "sol.shortestPath(case1, 1)\n",
    "            \n",
    "                            \n",
    "                        \n",
    "                \n",
    "                \n",
    "        "
   ]
  },
  {
   "cell_type": "code",
   "execution_count": null,
   "id": "a2bce158",
   "metadata": {},
   "outputs": [],
   "source": []
  }
 ],
 "metadata": {
  "kernelspec": {
   "display_name": "Python 3 (ipykernel)",
   "language": "python",
   "name": "python3"
  },
  "language_info": {
   "codemirror_mode": {
    "name": "ipython",
    "version": 3
   },
   "file_extension": ".py",
   "mimetype": "text/x-python",
   "name": "python",
   "nbconvert_exporter": "python",
   "pygments_lexer": "ipython3",
   "version": "3.9.7"
  }
 },
 "nbformat": 4,
 "nbformat_minor": 5
}
